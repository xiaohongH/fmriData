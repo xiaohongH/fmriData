{
 "cells": [
  {
   "cell_type": "code",
   "execution_count": 3,
   "metadata": {},
   "outputs": [],
   "source": [
    "hemiList = [\"lh\",\"rh\"]\n",
    "subjname = \"bg_data\"\n",
    "surfName = \"bg\"\n",
    "\n",
    "filePath = \"/home/hh/study/python/code/ml/nipype_tutorial/bingfreesurfer/\"+subjname+\"/SUMA\""
   ]
  },
  {
   "cell_type": "code",
   "execution_count": 4,
   "metadata": {},
   "outputs": [
    {
     "name": "stdout",
     "output_type": "stream",
     "text": [
      "cd /home/hh/study/python/code/ml/nipype_tutorial/bingfreesurfer/bg_data/SUMA;    ROIgrow -overwrite -spec bg_data_lh.spec -surf_A lh.full.flat.patch.3d     -roi_nodes nodelocations_lh.1D -roi_labels PER_NODE -lim 1 -prefix lh_SurfCoord\n",
      "cd /home/hh/study/python/code/ml/nipype_tutorial/bingfreesurfer/bg_data/SUMA;    ROIgrow -overwrite -spec bg_data_lh.spec -surf_A lh.full.flat.patch.3d     -roi_nodes nodelocations_lh.1D -lim 1 -prefix lh_SurfCoord_all\n",
      "cd /home/hh/study/python/code/ml/nipype_tutorial/bingfreesurfer/bg_data/SUMA;    ConvertDset -o_1D -add_node_index -input lh_SurfCoord_all.1D -prefix SurfCoordRoi_lh_all\n",
      "cd /home/hh/study/python/code/ml/nipype_tutorial/bingfreesurfer/bg_data/SUMA;    ROIgrow -overwrite -spec bg_data_rh.spec -surf_A rh.full.flat.patch.3d     -roi_nodes nodelocations_rh.1D -roi_labels PER_NODE -lim 1 -prefix rh_SurfCoord\n",
      "cd /home/hh/study/python/code/ml/nipype_tutorial/bingfreesurfer/bg_data/SUMA;    ROIgrow -overwrite -spec bg_data_rh.spec -surf_A rh.full.flat.patch.3d     -roi_nodes nodelocations_rh.1D -lim 1 -prefix rh_SurfCoord_all\n",
      "cd /home/hh/study/python/code/ml/nipype_tutorial/bingfreesurfer/bg_data/SUMA;    ConvertDset -o_1D -add_node_index -input rh_SurfCoord_all.1D -prefix SurfCoordRoi_rh_all\n"
     ]
    }
   ],
   "source": [
    "#在surface上画ROI\n",
    "#将1D文件转成dset文件\n",
    "import subprocess\n",
    "\n",
    "for hemi in hemiList:\n",
    "\n",
    "    command = \"cd \"+filePath+\";\\\n",
    "    ROIgrow -overwrite -spec \"+subjname+\"_\"+hemi+\".spec -surf_A \"+hemi+\".full.flat.patch.3d \\\n",
    "    -roi_nodes nodelocations_\"+hemi+\".1D -roi_labels PER_NODE -lim 1 -prefix \"+hemi+\"_SurfCoord\"\n",
    "    print command\n",
    "    subprocess.call(command, shell=True)\n",
    "\n",
    "    command2 = \"cd \"+filePath+\";\\\n",
    "    ROIgrow -overwrite -spec \"+subjname+\"_\"+hemi+\".spec -surf_A \"+hemi+\".full.flat.patch.3d \\\n",
    "    -roi_nodes nodelocations_\"+hemi+\".1D -lim 1 -prefix \"+hemi+\"_SurfCoord_all\"\n",
    "\n",
    "    command3 = \"cd \"+filePath+\";\\\n",
    "    ConvertDset -o_1D -add_node_index -input \"+hemi+\"_SurfCoord_all.1D -prefix SurfCoordRoi_\"+hemi+\"_all\"\n",
    "\n",
    "    subprocess.call(command2, shell=True)\n",
    "    print command2\n",
    "\n",
    "    subprocess.call(command3, shell=True)\n",
    "    print command3\n"
   ]
  },
  {
   "cell_type": "code",
   "execution_count": 5,
   "metadata": {},
   "outputs": [],
   "source": [
    "#将有val的nodes index的文件，转成没有val的文件\n",
    "import os\n",
    "import numpy as np\n",
    "def listdir(path,hemi):\n",
    "    num = []\n",
    "    for file in os.listdir(path):\n",
    "        temp = file.split(\".\")\n",
    "        if temp[0] == hemi+\"_SurfCoord\":\n",
    "            num.append(temp[1])\n",
    "    return num\n",
    "\n",
    "def writeNewNodes(boldInfileDir,roiName):\n",
    "    temp = []\n",
    "    x =[]\n",
    "    boldFinalDir = os.path.join(boldInfileDir,roiName)\n",
    "    with open(boldFinalDir) as f:\n",
    "        for line ,i in enumerate(f.readlines()):\n",
    "            if i[0] != \"#\":\n",
    "                temp.append(i.split(\"  \")[0])\n",
    "        temp= np.array(map(int,temp))\n",
    "        \n",
    "    newfileName = os.path.join(boldInfileDir,\"newNodes_\"+roiName)\n",
    "    f=open(newfileName,\"w\") \n",
    "    for i in range(len(temp)):\n",
    "        f.write(str(temp[i])+\"\\n\")\n",
    "    f.close\n",
    "    return temp\n",
    "\n",
    "\n",
    "for hemi in hemiList:\n",
    "    filePath = \"/home/hh/study/python/code/ml/nipype_tutorial/bingfreesurfer/\"+subjname+\"/SUMA\"\n",
    "    num = listdir(filePath,hemi)\n",
    "    for i in range(len(num)):\n",
    "        filename = hemi+\"_SurfCoord.\"+num[i]+\".1D\"\n",
    "        writeNewNodes(filePath,filename)\n"
   ]
  },
  {
   "cell_type": "code",
   "execution_count": 88,
   "metadata": {
    "scrolled": true
   },
   "outputs": [],
   "source": [
    "#将每个小的roi的1D文件转成dset文件\n",
    "import os\n",
    "import subprocess\n",
    "\n",
    "def listdir(path,hemi):\n",
    "    num = []\n",
    "    for file in os.listdir(path):\n",
    "        temp = file.split(\".\")\n",
    "        if temp[0] == hemi+\"_SurfCoord\":\n",
    "            num.append(temp[1])\n",
    "    return num\n",
    "\n",
    "for hemi in hemiList:\n",
    "    filePath = \"/home/hh/study/python/code/ml/nipype_tutorial/bingfreesurfer/\"+subjname+\"/SUMA\"\n",
    "    num = listdir(filePath,hemi)\n",
    "    for i in range(len(num)):\n",
    "        command = \"cd \"+filePath+\";ConvertDset -o_1D -add_node_index -input newNodes_\"+hemi+\"_SurfCoord.\"+num[i]+\".1D -prefix SurfCoordRoi.\"+hemi+\"_\"+num[i]\n",
    "        print command\n",
    "        #     subprocess.call(command, shell=True)\n",
    "\n",
    "#ConvertDset -o_1D -add_node_index -input lh_SurfCoord_all.1D -prefix SurfCoordRoi_lh_all\n",
    "ConvertDset -o_1D -add_node_index -input allnodelocations_rh.1D  -prefix SurfCoordRoi_rh_all"
   ]
  }
 ],
 "metadata": {
  "kernelspec": {
   "display_name": "Python [conda env:python27]",
   "language": "python",
   "name": "conda-env-python27-py"
  },
  "language_info": {
   "codemirror_mode": {
    "name": "ipython",
    "version": 2
   },
   "file_extension": ".py",
   "mimetype": "text/x-python",
   "name": "python",
   "nbconvert_exporter": "python",
   "pygments_lexer": "ipython2",
   "version": "2.7.15"
  }
 },
 "nbformat": 4,
 "nbformat_minor": 2
}
