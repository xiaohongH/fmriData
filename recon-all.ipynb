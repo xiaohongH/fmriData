{
 "cells": [
  {
   "cell_type": "code",
   "execution_count": 6,
   "metadata": {},
   "outputs": [
    {
     "name": "stdout",
     "output_type": "stream",
     "text": [
      "10 10\n",
      "recon-all -all -i /mnt/data_disk/fmridata/all_subj/surfaceProj/surfaceRawData/ec/30may11EC_15_1.nii -subjid ec -sd /home/hh/study/python/code/ml/nipype_tutorial/bingfreesurfer\n",
      "recon-all -all -i /mnt/data_disk/fmridata/all_subj/surfaceProj/surfaceRawData/kj/21nov11kj_14_1.nii -subjid kj -sd /home/hh/study/python/code/ml/nipype_tutorial/bingfreesurfer\n",
      "recon-all -all -i /mnt/data_disk/fmridata/all_subj/surfaceProj/surfaceRawData/lh/23apr11LH_14_1.nii -subjid lh -sd /home/hh/study/python/code/ml/nipype_tutorial/bingfreesurfer\n",
      "recon-all -all -i /mnt/data_disk/fmridata/all_subj/surfaceProj/surfaceRawData/ls/31mar11ls_15_1.nii -subjid ls -sd /home/hh/study/python/code/ml/nipype_tutorial/bingfreesurfer\n",
      "recon-all -all -i /mnt/data_disk/fmridata/all_subj/surfaceProj/surfaceRawData/mm/06oct11mm_14_1.nii -subjid mm -sd /home/hh/study/python/code/ml/nipype_tutorial/bingfreesurfer\n",
      "recon-all -all -i /mnt/data_disk/fmridata/all_subj/surfaceProj/surfaceRawData/pk/25may11pk_14_1.nii -subjid pk -sd /home/hh/study/python/code/ml/nipype_tutorial/bingfreesurfer\n",
      "recon-all -all -i /mnt/data_disk/fmridata/all_subj/surfaceProj/surfaceRawData/ta/04nov11ta_14_1.nii -subjid ta -sd /home/hh/study/python/code/ml/nipype_tutorial/bingfreesurfer\n",
      "recon-all -all -i /mnt/data_disk/fmridata/all_subj/surfaceProj/surfaceRawData/ts/26may11ts_14_1.nii -subjid ts -sd /home/hh/study/python/code/ml/nipype_tutorial/bingfreesurfer\n",
      "recon-all -all -i /mnt/data_disk/fmridata/all_subj/surfaceProj/surfaceRawData/xy/28sep11xy_15_1.nii -subjid xy -sd /home/hh/study/python/code/ml/nipype_tutorial/bingfreesurfer\n",
      "recon-all -all -i /mnt/data_disk/fmridata/all_subj/surfaceProj/surfaceRawData/zb/21jul11zb_14_1.nii -subjid zb -sd /home/hh/study/python/code/ml/nipype_tutorial/bingfreesurfer\n"
     ]
    }
   ],
   "source": [
    "import os\n",
    "inFilePath = \"/mnt/data_disk/fmridata/all_subj/surfaceProj/surfaceRawData\"\n",
    "outFilePath = \"/home/hh/study/python/code/ml/nipype_tutorial/bingfreesurfer\"\n",
    "\n",
    "fileName = [\"30may11EC_15_1.nii\",\"21nov11kj_14_1.nii\",\"23apr11LH_14_1.nii\",\"31mar11ls_15_1.nii\",\n",
    "            \"06oct11mm_14_1.nii\",\"25may11pk_14_1.nii\",\"04nov11ta_14_1.nii\",\"26may11ts_14_1.nii\"\n",
    "            ,\"28sep11xy_15_1.nii\",\"21jul11zb_14_1.nii\"]\n",
    "subjName = [\"ec\",\"kj\",\"lh\",\"ls\",\"mm\",\"pk\",\"ta\",\"ts\",\"xy\",\"zb\"]\n",
    "\n",
    "print len(fileName),len(subjName)\n",
    "\n",
    "for i in range(len(fileName)):\n",
    "    infileName = os.path.join(inFilePath,subjName[i],fileName[i])\n",
    "    command = \"recon-all -all -i \"+infileName+\" -subjid \"+subjName[i]+\" -sd \"+outFilePath\n",
    "    print command\n",
    "\n"
   ]
  }
 ],
 "metadata": {
  "kernelspec": {
   "display_name": "Python [conda env:python27]",
   "language": "python",
   "name": "conda-env-python27-py"
  },
  "language_info": {
   "codemirror_mode": {
    "name": "ipython",
    "version": 2
   },
   "file_extension": ".py",
   "mimetype": "text/x-python",
   "name": "python",
   "nbconvert_exporter": "python",
   "pygments_lexer": "ipython2",
   "version": "2.7.15"
  }
 },
 "nbformat": 4,
 "nbformat_minor": 2
}
