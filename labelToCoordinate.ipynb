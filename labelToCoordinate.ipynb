{
 "cells": [
  {
   "cell_type": "code",
   "execution_count": 1,
   "metadata": {},
   "outputs": [
    {
     "name": "stdout",
     "output_type": "stream",
     "text": [
      "bash;    mri_annotation2label --subject bg_data --hemi rh     --annotation  aparc.a2009s     --outdir /home/hh/study/python/code/ml/nipype_tutorial/bingfreesurfer/bg_data/SUMA/rh\n",
      "bash;    mri_annotation2label --subject bg_data --hemi lh     --annotation  aparc.a2009s     --outdir /home/hh/study/python/code/ml/nipype_tutorial/bingfreesurfer/bg_data/SUMA/lh\n"
     ]
    }
   ],
   "source": [
    "#将lh.aparc.annot分割成一个一个的label，每一个label中的值是都是一个一个的vertex\n",
    "#jupyter 要在bash下打开才能执行\n",
    "import subprocess\n",
    "\n",
    "subjectName = \"bg_data\"\n",
    "hemi = [\"rh\",\"lh\"]\n",
    "inFileName = \"/home/hh/study/python/code/ml/nipype_tutorial/bingfreesurfer\"\n",
    "outFileName = \"/home/hh/study/python/code/ml/nipype_tutorial/bingfreesurfer/bg_data/SUMA/\"\n",
    "\n",
    "for h in hemi:\n",
    "    command = \"bash;\\\n",
    "    mri_annotation2label --subject \"+subjectName+\" --hemi \"+h+\" \\\n",
    "    --annotation  aparc.a2009s \\\n",
    "    --outdir \"+outFileName+h\n",
    "    \n",
    "    print command\n",
    "    subprocess.call(command,shell = True)\n",
    "    #将1D文件转成dset文件\n",
    "#     ConvertDset -o_1D -add_node_index -input lh+fusiform+parahippocampal.1D -prefix lh+fusiform+parahippocampal"
   ]
  },
  {
   "cell_type": "code",
   "execution_count": 2,
   "metadata": {},
   "outputs": [
    {
     "name": "stdout",
     "output_type": "stream",
     "text": [
      "/home/hh/study/python/code/ml/nipype_tutorial/bingfreesurfer/bg_data/SUMA/lh+Parahip+Lingual+fusifor.1D\n",
      "/home/hh/study/python/code/ml/nipype_tutorial/bingfreesurfer/bg_data/SUMA/lh+Parahip+Lingual+fusifor.1D\n",
      "/home/hh/study/python/code/ml/nipype_tutorial/bingfreesurfer/bg_data/SUMA/lh+Parahip+Lingual+fusifor.1D\n",
      "/home/hh/study/python/code/ml/nipype_tutorial/bingfreesurfer/bg_data/SUMA/lh+Parahip+Lingual+fusifor.1D\n",
      "/home/hh/study/python/code/ml/nipype_tutorial/bingfreesurfer/bg_data/SUMA/lh+Parahip+Lingual+fusifor.1D\n",
      "/home/hh/study/python/code/ml/nipype_tutorial/bingfreesurfer/bg_data/SUMA/lh+Parahip+Lingual+fusifor.1D\n",
      "/home/hh/study/python/code/ml/nipype_tutorial/bingfreesurfer/bg_data/SUMA/rh+Parahip+Lingual+fusifor.1D\n",
      "/home/hh/study/python/code/ml/nipype_tutorial/bingfreesurfer/bg_data/SUMA/rh+Parahip+Lingual+fusifor.1D\n",
      "/home/hh/study/python/code/ml/nipype_tutorial/bingfreesurfer/bg_data/SUMA/rh+Parahip+Lingual+fusifor.1D\n",
      "/home/hh/study/python/code/ml/nipype_tutorial/bingfreesurfer/bg_data/SUMA/rh+Parahip+Lingual+fusifor.1D\n",
      "/home/hh/study/python/code/ml/nipype_tutorial/bingfreesurfer/bg_data/SUMA/rh+Parahip+Lingual+fusifor.1D\n",
      "/home/hh/study/python/code/ml/nipype_tutorial/bingfreesurfer/bg_data/SUMA/rh+Parahip+Lingual+fusifor.1D\n"
     ]
    }
   ],
   "source": [
    "#合并多个label的值;用作mask，求出这个mask内的看face和house的最大最小值\n",
    "#并将多个label中vertex的值提取出来\n",
    "import os\n",
    "import numpy as np\n",
    "import subprocess\n",
    "\n",
    "def writeNewLabel(infileDir,newfileName):\n",
    "    temp = []\n",
    "    x =[]\n",
    "    with open(infileDir) as f:\n",
    "        for line ,i in enumerate(f.readlines()):\n",
    "            if line > 1:\n",
    "                temp.append(i.split(\"  \")[0])\n",
    "        temp= np.array(map(int,temp))\n",
    "            \n",
    "    f=open(newfileName,\"a\")\n",
    "    for i in range(len(temp)):\n",
    "        f.write(str(temp[i])+\"\\n\")\n",
    "    f.close\n",
    "    return temp\n",
    "\n",
    "hemi = [\"lh\",\"rh\"]\n",
    "labelName = [\".G_oc-temp_med-Parahip.label\",\".S_oc-temp_med&Lingual.label\",\n",
    "             \".G_oc-temp_lat-fusifor.label\",\".S_oc-temp_lat.label\",\".G_oc-temp_med-Lingual.label\",\n",
    "             \".S_collat_transv_ant.label\"]\n",
    "\n",
    "addLabelName = \"+Parahip+Lingual+fusifor.1D\"\n",
    "subjname = \"bg_data\"\n",
    "filePath = \"/home/hh/study/python/code/ml/nipype_tutorial/bingfreesurfer/\"+subjname+\"/SUMA\"\n",
    "\n",
    "for h in range(len(hemi)):\n",
    "    for i in labelName:\n",
    "        finalLabelName = hemi[h] + i\n",
    "        \n",
    "        newFinalLabelName = os.path.join(filePath,hemi[h]+addLabelName) \n",
    "        finalFileName = os.path.join(filePath,hemi[h],finalLabelName)\n",
    "        #以追加的方式把多个label中的vertex，写入新的文件中\n",
    "        print newFinalLabelName\n",
    "        writeNewLabel(finalFileName,newFinalLabelName)\n",
    "        "
   ]
  },
  {
   "cell_type": "code",
   "execution_count": 13,
   "metadata": {},
   "outputs": [
    {
     "name": "stdout",
     "output_type": "stream",
     "text": [
      "/home/hh/study/python/code/ml/nipype_tutorial/bingfreesurfer/bg_data/SUMA/lh+Parahip+Lingual+fusifor.1D\n",
      "cd /home/hh/study/python/code/ml/nipype_tutorial/bingfreesurfer/bg_data/SUMA;        ConvertDset -o_1D -add_node_index -input /home/hh/study/python/code/ml/nipype_tutorial/bingfreesurfer/bg_data/SUMA/lh+Parahip+Lingual+fusifor.1D -prefix /home/hh/study/python/code/ml/nipype_tutorial/bingfreesurfer/bg_data/SUMA/lh+Parahip+Lingual+fusifor\n",
      "/home/hh/study/python/code/ml/nipype_tutorial/bingfreesurfer/bg_data/SUMA/rh+Parahip+Lingual+fusifor.1D\n",
      "cd /home/hh/study/python/code/ml/nipype_tutorial/bingfreesurfer/bg_data/SUMA;        ConvertDset -o_1D -add_node_index -input /home/hh/study/python/code/ml/nipype_tutorial/bingfreesurfer/bg_data/SUMA/rh+Parahip+Lingual+fusifor.1D -prefix /home/hh/study/python/code/ml/nipype_tutorial/bingfreesurfer/bg_data/SUMA/rh+Parahip+Lingual+fusifor\n"
     ]
    }
   ],
   "source": [
    "#将合并的label，从1D转成.dset文件\n",
    "hemi = [\"lh\",\"rh\"]\n",
    "subName = [\"bg_data\"]\n",
    "sub_surf = \"bg\"\n",
    "addLabelName = \"+Parahip+Lingual+fusifor\"\n",
    "\n",
    "\n",
    "for s in subName:\n",
    "    filePath = \"/home/hh/study/python/code/ml/nipype_tutorial/bingfreesurfer/\"+s+\"/SUMA\"\n",
    "    #将label中的vertex转化成dset文件\n",
    "    for h in range(len(hemi)):\n",
    "        inLabelName = os.path.join(filePath,hemi[h]+addLabelName+\".1D\") \n",
    "        print inLabelName\n",
    "        outputFile = os.path.join(filePath,hemi[h]+addLabelName)\n",
    "        #将1D文件转成dset文件\n",
    "        command = \"cd \"+filePath+\";\\\n",
    "        ConvertDset -o_1D -add_node_index -input \"+inLabelName+\" -prefix \"+outputFile\n",
    "        print command\n",
    "        subprocess.call(command, shell=True)\n"
   ]
  },
  {
   "cell_type": "code",
   "execution_count": 6,
   "metadata": {},
   "outputs": [
    {
     "name": "stdout",
     "output_type": "stream",
     "text": [
      "cd /home/hh/study/python/code/ml/nipype_tutorial/bingfreesurfer/bg_data/SUMA;    ConvertDset -o_1D -input /home/hh/study/python/code/ml/nipype_tutorial/bingfreesurfer/bg_data/SUMA/stats.bg.surf.lh.niml.dset -prefix stats.bg.lh\n",
      "cd /home/hh/study/python/code/ml/nipype_tutorial/bingfreesurfer/bg_data/SUMA;    ConvertDset -o_1D -input /home/hh/study/python/code/ml/nipype_tutorial/bingfreesurfer/bg_data/SUMA/stats.bg.surf.rh.niml.dset -prefix stats.bg.rh\n"
     ]
    }
   ],
   "source": [
    "#将localizer stast.niml.dset的数据转成1D.dset的数据\n",
    "import os\n",
    "import subprocess\n",
    "sub_surf = \"bg\"\n",
    "hemi = [\"lh\",\"rh\"]\n",
    "subjname = \"bg_data\"\n",
    "\n",
    "filePath = \"/home/hh/study/python/code/ml/nipype_tutorial/bingfreesurfer/\"+subjname+\"/SUMA\"\n",
    "for h in hemi:\n",
    "    command = \"cd \"+filePath+\";\\\n",
    "    ConvertDset -o_1D -input \"+filePath+\"/stats.\"+sub_surf+\".surf.\"+h+\".niml.dset\"+\" -prefix stats.\"+sub_surf+\".\"+h\n",
    "    print command\n",
    "    subprocess.call(command, shell=True)\n"
   ]
  },
  {
   "cell_type": "code",
   "execution_count": 14,
   "metadata": {},
   "outputs": [
    {
     "name": "stdout",
     "output_type": "stream",
     "text": [
      "47248    47248\n",
      "Name: nodes, dtype: int64 47039    47039\n",
      "Name: nodes, dtype: int64\n",
      "45341    45341\n",
      "Name: nodes, dtype: int64 52010    52010\n",
      "Name: nodes, dtype: int64\n"
     ]
    }
   ],
   "source": [
    "#求出tempole中，stats对看face和house激活最大最小的vertex的值\n",
    "#extract label中的数据，并求出stat中，在templobe 这个roi内的，最大最小值对应的nodes的值\n",
    "#求出 FFA和PPA的坐标\n",
    "#vertex num从0开始\n",
    "import pandas as pd\n",
    "import numpy as np\n",
    "def readStatsData(infileDir):\n",
    "    temp = []\n",
    "    with open(infileDir) as f:\n",
    "        for line ,i in enumerate(f.readlines()):\n",
    "            if i[0] == \"#\" and line > 5:\n",
    "                break\n",
    "            if i[0] != \"#\":\n",
    "                temp.append(i.split(\" \")[9])\n",
    "    return temp\n",
    "\n",
    "def readRoiNodes(infileDir):\n",
    "    temp = []\n",
    "    with open(infileDir) as f:\n",
    "        for line ,i in enumerate(f.readlines()):\n",
    "            temp.append(i.split(\"\\n\")[0])\n",
    "    return temp\n",
    "\n",
    "def getMaxMinNodes(hemi,subName,subSurfName):\n",
    "    infileDir = \"/home/hh/study/python/code/ml/nipype_tutorial/bingfreesurfer/\"+subName+\"/SUMA/stats.\"+subSurfName+\".\"+hemi+\".1D.dset\"\n",
    "    statsData = pd.DataFrame(data=map(float,readStatsData(infileDir)))\n",
    "\n",
    "    roiFileName = \"/home/hh/study/python/code/ml/nipype_tutorial/bingfreesurfer/\"+subName+\"/SUMA/\"+hemi+\"+Parahip+Lingual+fusifor.1D\"\n",
    "    roiNodes = readRoiNodes(roiFileName)\n",
    "    roiNodes = np.array(map(int, roiNodes))\n",
    "\n",
    "    roi = np.zeros(statsData.shape[0])\n",
    "    for i in roiNodes:\n",
    "            roi[i] = 1\n",
    "    nodes = range(0,statsData.shape[0])       \n",
    "    statsData.insert(1,'nodes', nodes) \n",
    "\n",
    "    statsData.insert(1,'roi', roi)\n",
    "    statsData.columns = [\"val\",\"roi\",\"nodes\"]\n",
    "    maxNum = statsData[statsData.roi == 1].val.max(axis=0)\n",
    "    minNum = statsData[statsData.roi == 1].val.min(axis=0)\n",
    "\n",
    "    # maxAll = statsData.val.max(axis=0)\n",
    "    # minAll = statsData.val.min(axis=0)\n",
    "\n",
    "    maxIndex = statsData[(statsData.loc[:,\"val\"] == maxNum)].nodes\n",
    "    minIndex = statsData[(statsData.loc[:,\"val\"] == minNum)].nodes\n",
    "    return maxIndex,minIndex\n",
    "\n",
    "\n",
    "\n",
    "hemi = [\"lh\",\"rh\"]\n",
    "subName = [\"bg_data\"]\n",
    "subSurfName = \"bg\"\n",
    "\n",
    "for s in range(len(subName)):\n",
    "    for h in range(len(hemi)):\n",
    "        maxIndex,minIndex = getMaxMinNodes(hemi[h],subName[s],subSurfName)\n",
    "        print maxIndex,minIndex\n"
   ]
  },
  {
   "cell_type": "code",
   "execution_count": 26,
   "metadata": {},
   "outputs": [
    {
     "name": "stdout",
     "output_type": "stream",
     "text": [
      "47248    47248\n",
      "Name: nodes, dtype: int64 47039    47039\n",
      "Name: nodes, dtype: int64\n",
      "[[45097.0],[42682.0],[43900.0],[43911.0],[43957.0],[43968.0],[43984.0],[42810.0],[44018.0],[46184.0],[47248.0],[48424.0],[50852.0],[52143.0],[53344.0],[53340.0],[53338.0],[52140.0],[52138.0],[52136.0],[52154.0],[52077.0],[50792.0],[49513.0],[48347.0],[48336.0],[47131.0],[47121.0],[47113.0],[47056.0],[47039.0],[47037.0],[47021.0],[47054.0],[47077.0],[48254.0],[47111.0],[48313.0],[49485.0],[50738.0],[52017.0]]\n",
      "45341    45341\n",
      "Name: nodes, dtype: int64 52010    52010\n",
      "Name: nodes, dtype: int64\n",
      "[[41863.0],[41865.0],[40813.0],[42994.0],[46365.0],[46429.0],[46427.0],[45349.0],[46525.0],[46519.0],[45341.0],[45307.0],[43004.0],[44157.0],[45309.0],[45288.0],[46456.0],[46436.0],[47525.0],[47523.0],[47521.0],[47519.0],[46370.0],[47494.0],[47485.0],[47460.0],[49650.0],[49631.0],[50785.0],[50805.0],[52010.0],[53227.0],[54470.0],[56998.0],[57022.0],[60645.0],[63057.0],[46250.0],[46240.0],[45087.0],[45088.0]]\n"
     ]
    }
   ],
   "source": [
    "#打开matlab，将两点之间的nodes，分割成好几部分，并连线\n",
    "import matlab.engine\n",
    "eng = matlab.engine.start_matlab()\n",
    "\n",
    "hemi = [\"lh\",\"rh\"]\n",
    "subName = [\"bg_data\"]\n",
    "subSurfName = \"bg\"\n",
    "\n",
    "for s in range(len(subName)):\n",
    "    for h in range(len(hemi)):\n",
    "        \n",
    "        maxIndex,minIndex = getMaxMinNodes(hemi[h],subName[s],subSurfName)\n",
    "        print maxIndex,minIndex\n",
    "        ret = eng.writeDivideNodes(int(maxIndex.index.values),int(minIndex.index.values),hemi[h],subName[s])\n",
    "        print(ret)\n",
    "#         writeDivideNodes(42959,41677,'rh','ab_data',[10])"
   ]
  },
  {
   "cell_type": "code",
   "execution_count": null,
   "metadata": {},
   "outputs": [],
   "source": []
  }
 ],
 "metadata": {
  "kernelspec": {
   "display_name": "Python [conda env:python27]",
   "language": "python",
   "name": "conda-env-python27-py"
  },
  "language_info": {
   "codemirror_mode": {
    "name": "ipython",
    "version": 2
   },
   "file_extension": ".py",
   "mimetype": "text/x-python",
   "name": "python",
   "nbconvert_exporter": "python",
   "pygments_lexer": "ipython2",
   "version": "2.7.15"
  }
 },
 "nbformat": 4,
 "nbformat_minor": 2
}
